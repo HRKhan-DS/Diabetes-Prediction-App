{
 "cells": [
  {
   "cell_type": "markdown",
   "id": "2a57cc31-560f-406a-8b2a-2723d44cd6b7",
   "metadata": {},
   "source": [
    "# Project Statement: Rock Vs. Mine Prediction\r\n",
    "The project of rock vs. mine prediction is essentially a binary classification problem. Given geological data about a specific location, the task is to predict whether it is likely to contain valuable minerals (a mine) or not (just rock)."
   ]
  },
  {
   "cell_type": "markdown",
   "id": "4c3121b9-c07a-468a-a20b-a7e7746c9878",
   "metadata": {},
   "source": [
    "# Create environment and read Data set"
   ]
  },
  {
   "cell_type": "code",
   "execution_count": 98,
   "id": "f260932f-7bff-4f47-aaaf-df124fb25d90",
   "metadata": {},
   "outputs": [],
   "source": [
    "import pandas as pd\n",
    "import numpy as np\n",
    "import matplotlib.pyplot as plt\n",
    "import seaborn as sns\n",
    "import warnings\n",
    "warnings.filterwarnings('ignore')"
   ]
  },
  {
   "cell_type": "code",
   "execution_count": 99,
   "id": "199278e3-28e0-4b30-a151-4b346738c471",
   "metadata": {},
   "outputs": [
    {
     "data": {
      "text/html": [
       "<div>\n",
       "<style scoped>\n",
       "    .dataframe tbody tr th:only-of-type {\n",
       "        vertical-align: middle;\n",
       "    }\n",
       "\n",
       "    .dataframe tbody tr th {\n",
       "        vertical-align: top;\n",
       "    }\n",
       "\n",
       "    .dataframe thead th {\n",
       "        text-align: right;\n",
       "    }\n",
       "</style>\n",
       "<table border=\"1\" class=\"dataframe\">\n",
       "  <thead>\n",
       "    <tr style=\"text-align: right;\">\n",
       "      <th></th>\n",
       "      <th>Pregnancies</th>\n",
       "      <th>Glucose</th>\n",
       "      <th>BloodPressure</th>\n",
       "      <th>SkinThickness</th>\n",
       "      <th>Insulin</th>\n",
       "      <th>BMI</th>\n",
       "      <th>DiabetesPedigreeFunction</th>\n",
       "      <th>Age</th>\n",
       "      <th>Outcome</th>\n",
       "    </tr>\n",
       "  </thead>\n",
       "  <tbody>\n",
       "    <tr>\n",
       "      <th>0</th>\n",
       "      <td>6</td>\n",
       "      <td>148</td>\n",
       "      <td>72</td>\n",
       "      <td>35</td>\n",
       "      <td>0</td>\n",
       "      <td>33.6</td>\n",
       "      <td>0.627</td>\n",
       "      <td>50</td>\n",
       "      <td>1</td>\n",
       "    </tr>\n",
       "    <tr>\n",
       "      <th>1</th>\n",
       "      <td>1</td>\n",
       "      <td>85</td>\n",
       "      <td>66</td>\n",
       "      <td>29</td>\n",
       "      <td>0</td>\n",
       "      <td>26.6</td>\n",
       "      <td>0.351</td>\n",
       "      <td>31</td>\n",
       "      <td>0</td>\n",
       "    </tr>\n",
       "    <tr>\n",
       "      <th>2</th>\n",
       "      <td>8</td>\n",
       "      <td>183</td>\n",
       "      <td>64</td>\n",
       "      <td>0</td>\n",
       "      <td>0</td>\n",
       "      <td>23.3</td>\n",
       "      <td>0.672</td>\n",
       "      <td>32</td>\n",
       "      <td>1</td>\n",
       "    </tr>\n",
       "    <tr>\n",
       "      <th>3</th>\n",
       "      <td>1</td>\n",
       "      <td>89</td>\n",
       "      <td>66</td>\n",
       "      <td>23</td>\n",
       "      <td>94</td>\n",
       "      <td>28.1</td>\n",
       "      <td>0.167</td>\n",
       "      <td>21</td>\n",
       "      <td>0</td>\n",
       "    </tr>\n",
       "    <tr>\n",
       "      <th>4</th>\n",
       "      <td>0</td>\n",
       "      <td>137</td>\n",
       "      <td>40</td>\n",
       "      <td>35</td>\n",
       "      <td>168</td>\n",
       "      <td>43.1</td>\n",
       "      <td>2.288</td>\n",
       "      <td>33</td>\n",
       "      <td>1</td>\n",
       "    </tr>\n",
       "  </tbody>\n",
       "</table>\n",
       "</div>"
      ],
      "text/plain": [
       "   Pregnancies  Glucose  BloodPressure  SkinThickness  Insulin   BMI  \\\n",
       "0            6      148             72             35        0  33.6   \n",
       "1            1       85             66             29        0  26.6   \n",
       "2            8      183             64              0        0  23.3   \n",
       "3            1       89             66             23       94  28.1   \n",
       "4            0      137             40             35      168  43.1   \n",
       "\n",
       "   DiabetesPedigreeFunction  Age  Outcome  \n",
       "0                     0.627   50        1  \n",
       "1                     0.351   31        0  \n",
       "2                     0.672   32        1  \n",
       "3                     0.167   21        0  \n",
       "4                     2.288   33        1  "
      ]
     },
     "execution_count": 99,
     "metadata": {},
     "output_type": "execute_result"
    }
   ],
   "source": [
    "path = r\"diabetes.csv\"   # here no header present\n",
    "df = pd.read_csv(path)\n",
    "df.head()"
   ]
  },
  {
   "cell_type": "markdown",
   "id": "a70595e1-93b5-4ca3-87ad-fa1d9350e18e",
   "metadata": {},
   "source": [
    "0 --> Non-Diabetic 1 --> Diabetic"
   ]
  },
  {
   "cell_type": "markdown",
   "id": "a9811eae-4b33-4eb7-8f9a-a9d56ec8015c",
   "metadata": {},
   "source": [
    "# Data Preprocesing"
   ]
  },
  {
   "cell_type": "code",
   "execution_count": 100,
   "id": "2fc2e445-0af1-4879-a881-a39d60d6040a",
   "metadata": {},
   "outputs": [
    {
     "data": {
      "text/plain": [
       "(768, 9)"
      ]
     },
     "execution_count": 100,
     "metadata": {},
     "output_type": "execute_result"
    }
   ],
   "source": [
    "df.shape"
   ]
  },
  {
   "cell_type": "code",
   "execution_count": 101,
   "id": "b270675d-bb16-49a9-abe0-e4334294f0b5",
   "metadata": {},
   "outputs": [
    {
     "data": {
      "text/plain": [
       "Pregnancies                 0\n",
       "Glucose                     0\n",
       "BloodPressure               0\n",
       "SkinThickness               0\n",
       "Insulin                     0\n",
       "BMI                         0\n",
       "DiabetesPedigreeFunction    0\n",
       "Age                         0\n",
       "Outcome                     0\n",
       "dtype: int64"
      ]
     },
     "execution_count": 101,
     "metadata": {},
     "output_type": "execute_result"
    }
   ],
   "source": [
    "df.isnull().sum()"
   ]
  },
  {
   "cell_type": "code",
   "execution_count": 102,
   "id": "e2e98c5f-0c04-45d3-b66a-a437754b24f4",
   "metadata": {},
   "outputs": [
    {
     "data": {
      "text/html": [
       "<div>\n",
       "<style scoped>\n",
       "    .dataframe tbody tr th:only-of-type {\n",
       "        vertical-align: middle;\n",
       "    }\n",
       "\n",
       "    .dataframe tbody tr th {\n",
       "        vertical-align: top;\n",
       "    }\n",
       "\n",
       "    .dataframe thead th {\n",
       "        text-align: right;\n",
       "    }\n",
       "</style>\n",
       "<table border=\"1\" class=\"dataframe\">\n",
       "  <thead>\n",
       "    <tr style=\"text-align: right;\">\n",
       "      <th></th>\n",
       "      <th>Pregnancies</th>\n",
       "      <th>Glucose</th>\n",
       "      <th>BloodPressure</th>\n",
       "      <th>SkinThickness</th>\n",
       "      <th>Insulin</th>\n",
       "      <th>BMI</th>\n",
       "      <th>DiabetesPedigreeFunction</th>\n",
       "      <th>Age</th>\n",
       "      <th>Outcome</th>\n",
       "    </tr>\n",
       "  </thead>\n",
       "  <tbody>\n",
       "    <tr>\n",
       "      <th>count</th>\n",
       "      <td>768.000000</td>\n",
       "      <td>768.000000</td>\n",
       "      <td>768.000000</td>\n",
       "      <td>768.000000</td>\n",
       "      <td>768.000000</td>\n",
       "      <td>768.000000</td>\n",
       "      <td>768.000000</td>\n",
       "      <td>768.000000</td>\n",
       "      <td>768.000000</td>\n",
       "    </tr>\n",
       "    <tr>\n",
       "      <th>mean</th>\n",
       "      <td>3.845052</td>\n",
       "      <td>120.894531</td>\n",
       "      <td>69.105469</td>\n",
       "      <td>20.536458</td>\n",
       "      <td>79.799479</td>\n",
       "      <td>31.992578</td>\n",
       "      <td>0.471876</td>\n",
       "      <td>33.240885</td>\n",
       "      <td>0.348958</td>\n",
       "    </tr>\n",
       "    <tr>\n",
       "      <th>std</th>\n",
       "      <td>3.369578</td>\n",
       "      <td>31.972618</td>\n",
       "      <td>19.355807</td>\n",
       "      <td>15.952218</td>\n",
       "      <td>115.244002</td>\n",
       "      <td>7.884160</td>\n",
       "      <td>0.331329</td>\n",
       "      <td>11.760232</td>\n",
       "      <td>0.476951</td>\n",
       "    </tr>\n",
       "    <tr>\n",
       "      <th>min</th>\n",
       "      <td>0.000000</td>\n",
       "      <td>0.000000</td>\n",
       "      <td>0.000000</td>\n",
       "      <td>0.000000</td>\n",
       "      <td>0.000000</td>\n",
       "      <td>0.000000</td>\n",
       "      <td>0.078000</td>\n",
       "      <td>21.000000</td>\n",
       "      <td>0.000000</td>\n",
       "    </tr>\n",
       "    <tr>\n",
       "      <th>25%</th>\n",
       "      <td>1.000000</td>\n",
       "      <td>99.000000</td>\n",
       "      <td>62.000000</td>\n",
       "      <td>0.000000</td>\n",
       "      <td>0.000000</td>\n",
       "      <td>27.300000</td>\n",
       "      <td>0.243750</td>\n",
       "      <td>24.000000</td>\n",
       "      <td>0.000000</td>\n",
       "    </tr>\n",
       "    <tr>\n",
       "      <th>50%</th>\n",
       "      <td>3.000000</td>\n",
       "      <td>117.000000</td>\n",
       "      <td>72.000000</td>\n",
       "      <td>23.000000</td>\n",
       "      <td>30.500000</td>\n",
       "      <td>32.000000</td>\n",
       "      <td>0.372500</td>\n",
       "      <td>29.000000</td>\n",
       "      <td>0.000000</td>\n",
       "    </tr>\n",
       "    <tr>\n",
       "      <th>75%</th>\n",
       "      <td>6.000000</td>\n",
       "      <td>140.250000</td>\n",
       "      <td>80.000000</td>\n",
       "      <td>32.000000</td>\n",
       "      <td>127.250000</td>\n",
       "      <td>36.600000</td>\n",
       "      <td>0.626250</td>\n",
       "      <td>41.000000</td>\n",
       "      <td>1.000000</td>\n",
       "    </tr>\n",
       "    <tr>\n",
       "      <th>max</th>\n",
       "      <td>17.000000</td>\n",
       "      <td>199.000000</td>\n",
       "      <td>122.000000</td>\n",
       "      <td>99.000000</td>\n",
       "      <td>846.000000</td>\n",
       "      <td>67.100000</td>\n",
       "      <td>2.420000</td>\n",
       "      <td>81.000000</td>\n",
       "      <td>1.000000</td>\n",
       "    </tr>\n",
       "  </tbody>\n",
       "</table>\n",
       "</div>"
      ],
      "text/plain": [
       "       Pregnancies     Glucose  BloodPressure  SkinThickness     Insulin  \\\n",
       "count   768.000000  768.000000     768.000000     768.000000  768.000000   \n",
       "mean      3.845052  120.894531      69.105469      20.536458   79.799479   \n",
       "std       3.369578   31.972618      19.355807      15.952218  115.244002   \n",
       "min       0.000000    0.000000       0.000000       0.000000    0.000000   \n",
       "25%       1.000000   99.000000      62.000000       0.000000    0.000000   \n",
       "50%       3.000000  117.000000      72.000000      23.000000   30.500000   \n",
       "75%       6.000000  140.250000      80.000000      32.000000  127.250000   \n",
       "max      17.000000  199.000000     122.000000      99.000000  846.000000   \n",
       "\n",
       "              BMI  DiabetesPedigreeFunction         Age     Outcome  \n",
       "count  768.000000                768.000000  768.000000  768.000000  \n",
       "mean    31.992578                  0.471876   33.240885    0.348958  \n",
       "std      7.884160                  0.331329   11.760232    0.476951  \n",
       "min      0.000000                  0.078000   21.000000    0.000000  \n",
       "25%     27.300000                  0.243750   24.000000    0.000000  \n",
       "50%     32.000000                  0.372500   29.000000    0.000000  \n",
       "75%     36.600000                  0.626250   41.000000    1.000000  \n",
       "max     67.100000                  2.420000   81.000000    1.000000  "
      ]
     },
     "execution_count": 102,
     "metadata": {},
     "output_type": "execute_result"
    }
   ],
   "source": [
    "df.describe()"
   ]
  },
  {
   "cell_type": "code",
   "execution_count": 103,
   "id": "8eb2a000-fa5f-49e7-bf67-75f9758ba6f2",
   "metadata": {},
   "outputs": [
    {
     "name": "stdout",
     "output_type": "stream",
     "text": [
      "<class 'pandas.core.frame.DataFrame'>\n",
      "RangeIndex: 768 entries, 0 to 767\n",
      "Data columns (total 9 columns):\n",
      " #   Column                    Non-Null Count  Dtype  \n",
      "---  ------                    --------------  -----  \n",
      " 0   Pregnancies               768 non-null    int64  \n",
      " 1   Glucose                   768 non-null    int64  \n",
      " 2   BloodPressure             768 non-null    int64  \n",
      " 3   SkinThickness             768 non-null    int64  \n",
      " 4   Insulin                   768 non-null    int64  \n",
      " 5   BMI                       768 non-null    float64\n",
      " 6   DiabetesPedigreeFunction  768 non-null    float64\n",
      " 7   Age                       768 non-null    int64  \n",
      " 8   Outcome                   768 non-null    int64  \n",
      "dtypes: float64(2), int64(7)\n",
      "memory usage: 54.1 KB\n"
     ]
    }
   ],
   "source": [
    " df.info()"
   ]
  },
  {
   "cell_type": "code",
   "execution_count": 104,
   "id": "bc2c156d-4284-4220-aeac-a297fce8f85c",
   "metadata": {},
   "outputs": [
    {
     "data": {
      "image/png": "[encoded data removed]",
      "text/plain": [
       "<Figure size 1000x600 with 1 Axes>"
      ]
     },
     "metadata": {},
     "output_type": "display_data"
    }
   ],
   "source": [
    "# Select the numeric columns\n",
    "numeric_data = df.iloc[:, :-1]\n",
    "\n",
    "# Create a box plot for each column\n",
    "plt.figure(figsize=(10, 6))\n",
    "sns.boxplot(data=numeric_data)\n",
    "plt.title(\"Box Plot of Numeric Columns\")\n",
    "plt.xticks(rotation=90)\n",
    "plt.tight_layout()\n",
    "\n",
    "plt.show()"
   ]
  },
  {
   "cell_type": "code",
   "execution_count": 105,
   "id": "1e30aa5d-a356-4827-a58b-0bb3d308c4d4",
   "metadata": {},
   "outputs": [],
   "source": [
    "# Assuming you have a DataFrame called 'data'\n",
    "threshold = 275\n",
    "\n",
    "# Filter the data to keep rows where 'Insulin' is less than or equal to the threshold\n",
    "df = df[df['Insulin'] <= threshold]"
   ]
  },
  {
   "cell_type": "code",
   "execution_count": 106,
   "id": "37b4d584-b2cd-448e-bed9-d496c36fc0be",
   "metadata": {},
   "outputs": [],
   "source": [
    "# Assuming you have a DataFrame called 'data'\n",
    "threshold = 0\n",
    "\n",
    "# Filter the data to keep rows where 'Insulin' is less than or equal to the threshold\n",
    "df = df[df['Insulin'] > threshold]"
   ]
  },
  {
   "cell_type": "code",
   "execution_count": 107,
   "id": "9f5ae306-c54e-4f47-9efd-d1b8f7a8748f",
   "metadata": {},
   "outputs": [],
   "source": [
    "# Assuming you have a DataFrame called 'data'\n",
    "threshold = 175\n",
    "# Filter the data to keep rows where 'Insulin' is less than or equal to the threshold\n",
    "df = df[df['Glucose'] < threshold]"
   ]
  },
  {
   "cell_type": "code",
   "execution_count": 108,
   "id": "b2006de0-bdb9-4088-a92c-1063ab4ab0e0",
   "metadata": {},
   "outputs": [],
   "source": [
    "# Assuming you have a DataFrame called 'data'\n",
    "threshold = 100\n",
    "# Filter the data to keep rows where 'Insulin' is less than or equal to the threshold\n",
    "df = df[df['BloodPressure'] <= threshold]"
   ]
  },
  {
   "cell_type": "code",
   "execution_count": 109,
   "id": "377bfc9a-9c66-483b-b10f-a9a016267a56",
   "metadata": {},
   "outputs": [],
   "source": [
    "# Assuming you have a DataFrame called 'data'\n",
    "threshold = 60\n",
    "# Filter the data to keep rows where 'Insulin' is less than or equal to the threshold\n",
    "df = df[df['BMI'] <= threshold]"
   ]
  },
  {
   "cell_type": "code",
   "execution_count": 110,
   "id": "ba566439-8b17-494d-b470-1ceeb44f8e6a",
   "metadata": {},
   "outputs": [
    {
     "data": {
      "image/png": "[encoded data removed]",
      "text/plain": [
       "<Figure size 1000x600 with 1 Axes>"
      ]
     },
     "metadata": {},
     "output_type": "display_data"
    }
   ],
   "source": [
    "# Select the numeric columns\n",
    "numeric_data = df.iloc[:, :-1]\n",
    "\n",
    "# Create a box plot for each column\n",
    "plt.figure(figsize=(10, 6))\n",
    "sns.boxplot(data=numeric_data)\n",
    "plt.title(\"Box Plot of Numeric Columns\")\n",
    "plt.xticks(rotation=90)\n",
    "plt.tight_layout()\n",
    "\n",
    "plt.show()"
   ]
  },
  {
   "cell_type": "code",
   "execution_count": 111,
   "id": "656ee151-307e-4158-9d3b-a7f8e3bb0316",
   "metadata": {
    "scrolled": true
   },
   "outputs": [
    {
     "data": {
      "text/html": [
       "<div>\n",
       "<style scoped>\n",
       "    .dataframe tbody tr th:only-of-type {\n",
       "        vertical-align: middle;\n",
       "    }\n",
       "\n",
       "    .dataframe tbody tr th {\n",
       "        vertical-align: top;\n",
       "    }\n",
       "\n",
       "    .dataframe thead th {\n",
       "        text-align: right;\n",
       "    }\n",
       "</style>\n",
       "<table border=\"1\" class=\"dataframe\">\n",
       "  <thead>\n",
       "    <tr style=\"text-align: right;\">\n",
       "      <th></th>\n",
       "      <th>Pregnancies</th>\n",
       "      <th>Glucose</th>\n",
       "      <th>BloodPressure</th>\n",
       "      <th>SkinThickness</th>\n",
       "      <th>Insulin</th>\n",
       "      <th>BMI</th>\n",
       "      <th>DiabetesPedigreeFunction</th>\n",
       "      <th>Age</th>\n",
       "    </tr>\n",
       "    <tr>\n",
       "      <th>Outcome</th>\n",
       "      <th></th>\n",
       "      <th></th>\n",
       "      <th></th>\n",
       "      <th></th>\n",
       "      <th></th>\n",
       "      <th></th>\n",
       "      <th></th>\n",
       "      <th></th>\n",
       "    </tr>\n",
       "  </thead>\n",
       "  <tbody>\n",
       "    <tr>\n",
       "      <th>0</th>\n",
       "      <td>2.662500</td>\n",
       "      <td>107.700000</td>\n",
       "      <td>68.666667</td>\n",
       "      <td>27.241667</td>\n",
       "      <td>107.479167</td>\n",
       "      <td>31.332083</td>\n",
       "      <td>0.470438</td>\n",
       "      <td>28.237500</td>\n",
       "    </tr>\n",
       "    <tr>\n",
       "      <th>1</th>\n",
       "      <td>4.627907</td>\n",
       "      <td>131.686047</td>\n",
       "      <td>72.697674</td>\n",
       "      <td>32.523256</td>\n",
       "      <td>148.372093</td>\n",
       "      <td>35.246512</td>\n",
       "      <td>0.646174</td>\n",
       "      <td>34.395349</td>\n",
       "    </tr>\n",
       "  </tbody>\n",
       "</table>\n",
       "</div>"
      ],
      "text/plain": [
       "         Pregnancies     Glucose  BloodPressure  SkinThickness     Insulin  \\\n",
       "Outcome                                                                      \n",
       "0           2.662500  107.700000      68.666667      27.241667  107.479167   \n",
       "1           4.627907  131.686047      72.697674      32.523256  148.372093   \n",
       "\n",
       "               BMI  DiabetesPedigreeFunction        Age  \n",
       "Outcome                                                  \n",
       "0        31.332083                  0.470438  28.237500  \n",
       "1        35.246512                  0.646174  34.395349  "
      ]
     },
     "execution_count": 111,
     "metadata": {},
     "output_type": "execute_result"
    }
   ],
   "source": [
    "df.groupby('Outcome').mean()"
   ]
  },
  {
   "cell_type": "markdown",
   "id": "46094824-926c-4751-b34d-56e51cb8b96f",
   "metadata": {},
   "source": [
    "0 --> Non-Diabetic\n",
    "1 --> Diabetic"
   ]
  },
  {
   "cell_type": "code",
   "execution_count": 112,
   "id": "c9ba1922-a7e4-4046-96b1-d8fb587bb27d",
   "metadata": {},
   "outputs": [
    {
     "name": "stdout",
     "output_type": "stream",
     "text": [
      "Outcome\n",
      "0    240\n",
      "1     86\n",
      "Name: count, dtype: int64\n"
     ]
    },
    {
     "data": {
      "image/png": "[encoded data removed]",
      "text/plain": [
       "<Figure size 1000x600 with 1 Axes>"
      ]
     },
     "metadata": {},
     "output_type": "display_data"
    }
   ],
   "source": [
    "value_counts = df['Outcome'].value_counts()\n",
    "print(value_counts)\n",
    "\n",
    "plt.figure(figsize=(10,6))\n",
    "plt.pie(value_counts, labels =value_counts.index,  autopct= '%1.2f%%',startangle =100)\n",
    "plt.show()"
   ]
  },
  {
   "cell_type": "code",
   "execution_count": 113,
   "id": "239ebce3-1593-4913-ac3c-f65e854c7b53",
   "metadata": {},
   "outputs": [
    {
     "name": "stdout",
     "output_type": "stream",
     "text": [
      "Column Pregnancies: skewness = 1.522195020720312, Distribution = Right-skewed\n",
      "Column Glucose: skewness = 0.1512073170974081, Distribution = Right-skewed\n",
      "Column BloodPressure: skewness = -0.3747764423129933, Distribution = Left-skewed\n",
      "Column SkinThickness: skewness = 0.24679784722778977, Distribution = Right-skewed\n",
      "Column Insulin: skewness = 0.5356723020064492, Distribution = Right-skewed\n",
      "Column BMI: skewness = 0.1399508594652501, Distribution = Right-skewed\n",
      "Column DiabetesPedigreeFunction: skewness = 1.5151526888040976, Distribution = Right-skewed\n",
      "Column Age: skewness = 1.6175471223350533, Distribution = Right-skewed\n",
      "Column Outcome: skewness = 1.0768900013735283, Distribution = Right-skewed\n"
     ]
    }
   ],
   "source": [
    "from scipy import stats\n",
    "\n",
    "for column in df.columns:\n",
    "    skewness = df[column].skew()\n",
    "    \n",
    "    if skewness > 0:\n",
    "        skew_type = \"Right-skewed\"\n",
    "    elif skewness < 0:\n",
    "        skew_type = \"Left-skewed\"\n",
    "    else: \n",
    "        skew_type = \"Approximately normally distributed\"\n",
    "\n",
    "    print(f\"Column {column}: skewness = {skewness}, Distribution = {skew_type}\")"
   ]
  },
  {
   "cell_type": "markdown",
   "id": "15dccc99-a19c-44f4-9061-6082a1b03881",
   "metadata": {},
   "source": [
    "What are the reasons to use StandardScaler or Min-Max Scaler:\n",
    "Use StandardScaler for data with outliers or when the data is approximately normally distributed.\n",
    "Use min-max scaling (Normalizer) to scale the data within a specific range, especially if you have non-normally distributed data."
   ]
  },
  {
   "cell_type": "markdown",
   "id": "22404714-7117-4d32-a9b7-9e1780f1fd5c",
   "metadata": {},
   "source": [
    "# For Deployment to create cleaned Data Set"
   ]
  },
  {
   "cell_type": "code",
   "execution_count": 114,
   "id": "97f191bc-0ca9-4270-8dc8-96796f69a7ea",
   "metadata": {},
   "outputs": [],
   "source": [
    "df.to_csv(\"Cleaned_data.csv\")"
   ]
  },
  {
   "cell_type": "markdown",
   "id": "557b3af7-0e07-4c5e-b131-b410b0ea6c51",
   "metadata": {},
   "source": [
    "# Modeling & Evaluation"
   ]
  },
  {
   "cell_type": "code",
   "execution_count": 115,
   "id": "e40d4598-26c2-48e9-8327-9e246fb27b35",
   "metadata": {},
   "outputs": [],
   "source": [
    "from sklearn.model_selection import train_test_split, GridSearchCV\n",
    "from sklearn.preprocessing import MinMaxScaler, StandardScaler \n",
    "from sklearn.compose import ColumnTransformer\n",
    "from sklearn.linear_model import LogisticRegression\n",
    "from sklearn.pipeline import Pipeline\n",
    "\n",
    "from sklearn.metrics import accuracy_score, classification_report, confusion_matrix\n",
    "\n",
    "from sklearn.ensemble import RandomForestClassifier\n",
    "\n",
    "from sklearn.svm import SVC\n",
    "\n",
    "from xgboost import XGBClassifier\n",
    "\n",
    "from sklearn.model_selection import cross_val_score, StratifiedKFold"
   ]
  },
  {
   "cell_type": "code",
   "execution_count": 116,
   "id": "21b0ef63-382f-400f-a5fb-1d54821ab086",
   "metadata": {},
   "outputs": [],
   "source": [
    "X = df.drop(columns = 'Outcome', axis=1)\n",
    "y = df['Outcome']\n",
    "\n",
    "X_train, X_test, y_train, y_test = train_test_split( X,y, test_size=0.1, random_state =42)"
   ]
  },
  {
   "cell_type": "code",
   "execution_count": 117,
   "id": "ed880dab-d936-46c9-b151-a9ae561ccd97",
   "metadata": {},
   "outputs": [],
   "source": [
    "# transformations = [('scaler',MinMaxScaler(),list(X.columns))]\n",
    "transformations = [('scaler', StandardScaler(),list(X.columns))]"
   ]
  },
  {
   "cell_type": "markdown",
   "id": "b235e4a7-ff3f-40e1-91d0-88ac954bf178",
   "metadata": {},
   "source": [
    "# 1. LogisticRegression"
   ]
  },
  {
   "cell_type": "code",
   "execution_count": 118,
   "id": "a5347024-af01-4a2c-bcf5-843dc2b30ec5",
   "metadata": {},
   "outputs": [],
   "source": [
    "pipeline = Pipeline(\n",
    "    [('preprocessor', ColumnTransformer(transformers=transformations)), ('classifer', LogisticRegression(random_state=42, max_iter=1000))]\n",
    ")"
   ]
  },
  {
   "cell_type": "code",
   "execution_count": 119,
   "id": "eb039cb5-a438-44c3-aae6-9ff198c95cd4",
   "metadata": {},
   "outputs": [
    {
     "data": {
      "text/html": [
       "<style>#sk-container-id-9 {color: black;}#sk-container-id-9 pre{padding: 0;}#sk-container-id-9 div.sk-toggleable {background-color: white;}#sk-container-id-9 label.sk-toggleable__label {cursor: pointer;display: block;width: 100%;margin-bottom: 0;padding: 0.3em;box-sizing: border-box;text-align: center;}#sk-container-id-9 label.sk-toggleable__label-arrow:before {content: \"▸\";float: left;margin-right: 0.25em;color: #696969;}#sk-container-id-9 label.sk-toggleable__label-arrow:hover:before {color: black;}#sk-container-id-9 div.sk-estimator:hover label.sk-toggleable__label-arrow:before {color: black;}#sk-container-id-9 div.sk-toggleable__content {max-height: 0;max-width: 0;overflow: hidden;text-align: left;background-color: #f0f8ff;}#sk-container-id-9 div.sk-toggleable__content pre {margin: 0.2em;color: black;border-radius: 0.25em;background-color: #f0f8ff;}#sk-container-id-9 input.sk-toggleable__control:checked~div.sk-toggleable__content {max-height: 200px;max-width: 100%;overflow: auto;}#sk-container-id-9 input.sk-toggleable__control:checked~label.sk-toggleable__label-arrow:before {content: \"▾\";}#sk-container-id-9 div.sk-estimator input.sk-toggleable__control:checked~label.sk-toggleable__label {background-color: #d4ebff;}#sk-container-id-9 div.sk-label input.sk-toggleable__control:checked~label.sk-toggleable__label {background-color: #d4ebff;}#sk-container-id-9 input.sk-hidden--visually {border: 0;clip: rect(1px 1px 1px 1px);clip: rect(1px, 1px, 1px, 1px);height: 1px;margin: -1px;overflow: hidden;padding: 0;position: absolute;width: 1px;}#sk-container-id-9 div.sk-estimator {font-family: monospace;background-color: #f0f8ff;border: 1px dotted black;border-radius: 0.25em;box-sizing: border-box;margin-bottom: 0.5em;}#sk-container-id-9 div.sk-estimator:hover {background-color: #d4ebff;}#sk-container-id-9 div.sk-parallel-item::after {content: \"\";width: 100%;border-bottom: 1px solid gray;flex-grow: 1;}#sk-container-id-9 div.sk-label:hover label.sk-toggleable__label {background-color: #d4ebff;}#sk-container-id-9 div.sk-serial::before {content: \"\";position: absolute;border-left: 1px solid gray;box-sizing: border-box;top: 0;bottom: 0;left: 50%;z-index: 0;}#sk-container-id-9 div.sk-serial {display: flex;flex-direction: column;align-items: center;background-color: white;padding-right: 0.2em;padding-left: 0.2em;position: relative;}#sk-container-id-9 div.sk-item {position: relative;z-index: 1;}#sk-container-id-9 div.sk-parallel {display: flex;align-items: stretch;justify-content: center;background-color: white;position: relative;}#sk-container-id-9 div.sk-item::before, #sk-container-id-9 div.sk-parallel-item::before {content: \"\";position: absolute;border-left: 1px solid gray;box-sizing: border-box;top: 0;bottom: 0;left: 50%;z-index: -1;}#sk-container-id-9 div.sk-parallel-item {display: flex;flex-direction: column;z-index: 1;position: relative;background-color: white;}#sk-container-id-9 div.sk-parallel-item:first-child::after {align-self: flex-end;width: 50%;}#sk-container-id-9 div.sk-parallel-item:last-child::after {align-self: flex-start;width: 50%;}#sk-container-id-9 div.sk-parallel-item:only-child::after {width: 0;}#sk-container-id-9 div.sk-dashed-wrapped {border: 1px dashed gray;margin: 0 0.4em 0.5em 0.4em;box-sizing: border-box;padding-bottom: 0.4em;background-color: white;}#sk-container-id-9 div.sk-label label {font-family: monospace;font-weight: bold;display: inline-block;line-height: 1.2em;}#sk-container-id-9 div.sk-label-container {text-align: center;}#sk-container-id-9 div.sk-container {/* jupyter's `normalize.less` sets `[hidden] { display: none; }` but bootstrap.min.css set `[hidden] { display: none !important; }` so we also need the `!important` here to be able to override the default hidden behavior on the sphinx rendered scikit-learn.org. See: https://github.com/scikit-learn/scikit-learn/issues/21755 */display: inline-block !important;position: relative;}#sk-container-id-9 div.sk-text-repr-fallback {display: none;}</style><div id=\"sk-container-id-9\" class=\"sk-top-container\"><div class=\"sk-text-repr-fallback\"><pre>Pipeline(steps=[(&#x27;preprocessor&#x27;,\n",
       "                 ColumnTransformer(transformers=[(&#x27;scaler&#x27;, StandardScaler(),\n",
       "                                                  [&#x27;Pregnancies&#x27;, &#x27;Glucose&#x27;,\n",
       "                                                   &#x27;BloodPressure&#x27;,\n",
       "                                                   &#x27;SkinThickness&#x27;, &#x27;Insulin&#x27;,\n",
       "                                                   &#x27;BMI&#x27;,\n",
       "                                                   &#x27;DiabetesPedigreeFunction&#x27;,\n",
       "                                                   &#x27;Age&#x27;])])),\n",
       "                (&#x27;classifer&#x27;,\n",
       "                 LogisticRegression(max_iter=1000, random_state=42))])</pre><b>In a Jupyter environment, please rerun this cell to show the HTML representation or trust the notebook. <br />On GitHub, the HTML representation is unable to render, please try loading this page with nbviewer.org.</b></div><div class=\"sk-container\" hidden><div class=\"sk-item sk-dashed-wrapped\"><div class=\"sk-label-container\"><div class=\"sk-label sk-toggleable\"><input class=\"sk-toggleable__control sk-hidden--visually\" id=\"sk-estimator-id-41\" type=\"checkbox\" ><label for=\"sk-estimator-id-41\" class=\"sk-toggleable__label sk-toggleable__label-arrow\">Pipeline</label><div class=\"sk-toggleable__content\"><pre>Pipeline(steps=[(&#x27;preprocessor&#x27;,\n",
       "                 ColumnTransformer(transformers=[(&#x27;scaler&#x27;, StandardScaler(),\n",
       "                                                  [&#x27;Pregnancies&#x27;, &#x27;Glucose&#x27;,\n",
       "                                                   &#x27;BloodPressure&#x27;,\n",
       "                                                   &#x27;SkinThickness&#x27;, &#x27;Insulin&#x27;,\n",
       "                                                   &#x27;BMI&#x27;,\n",
       "                                                   &#x27;DiabetesPedigreeFunction&#x27;,\n",
       "                                                   &#x27;Age&#x27;])])),\n",
       "                (&#x27;classifer&#x27;,\n",
       "                 LogisticRegression(max_iter=1000, random_state=42))])</pre></div></div></div><div class=\"sk-serial\"><div class=\"sk-item sk-dashed-wrapped\"><div class=\"sk-label-container\"><div class=\"sk-label sk-toggleable\"><input class=\"sk-toggleable__control sk-hidden--visually\" id=\"sk-estimator-id-42\" type=\"checkbox\" ><label for=\"sk-estimator-id-42\" class=\"sk-toggleable__label sk-toggleable__label-arrow\">preprocessor: ColumnTransformer</label><div class=\"sk-toggleable__content\"><pre>ColumnTransformer(transformers=[(&#x27;scaler&#x27;, StandardScaler(),\n",
       "                                 [&#x27;Pregnancies&#x27;, &#x27;Glucose&#x27;, &#x27;BloodPressure&#x27;,\n",
       "                                  &#x27;SkinThickness&#x27;, &#x27;Insulin&#x27;, &#x27;BMI&#x27;,\n",
       "                                  &#x27;DiabetesPedigreeFunction&#x27;, &#x27;Age&#x27;])])</pre></div></div></div><div class=\"sk-parallel\"><div class=\"sk-parallel-item\"><div class=\"sk-item\"><div class=\"sk-label-container\"><div class=\"sk-label sk-toggleable\"><input class=\"sk-toggleable__control sk-hidden--visually\" id=\"sk-estimator-id-43\" type=\"checkbox\" ><label for=\"sk-estimator-id-43\" class=\"sk-toggleable__label sk-toggleable__label-arrow\">scaler</label><div class=\"sk-toggleable__content\"><pre>[&#x27;Pregnancies&#x27;, &#x27;Glucose&#x27;, &#x27;BloodPressure&#x27;, &#x27;SkinThickness&#x27;, &#x27;Insulin&#x27;, &#x27;BMI&#x27;, &#x27;DiabetesPedigreeFunction&#x27;, &#x27;Age&#x27;]</pre></div></div></div><div class=\"sk-serial\"><div class=\"sk-item\"><div class=\"sk-estimator sk-toggleable\"><input class=\"sk-toggleable__control sk-hidden--visually\" id=\"sk-estimator-id-44\" type=\"checkbox\" ><label for=\"sk-estimator-id-44\" class=\"sk-toggleable__label sk-toggleable__label-arrow\">StandardScaler</label><div class=\"sk-toggleable__content\"><pre>StandardScaler()</pre></div></div></div></div></div></div></div></div><div class=\"sk-item\"><div class=\"sk-estimator sk-toggleable\"><input class=\"sk-toggleable__control sk-hidden--visually\" id=\"sk-estimator-id-45\" type=\"checkbox\" ><label for=\"sk-estimator-id-45\" class=\"sk-toggleable__label sk-toggleable__label-arrow\">LogisticRegression</label><div class=\"sk-toggleable__content\"><pre>LogisticRegression(max_iter=1000, random_state=42)</pre></div></div></div></div></div></div></div>"
      ],
      "text/plain": [
       "Pipeline(steps=[('preprocessor',\n",
       "                 ColumnTransformer(transformers=[('scaler', StandardScaler(),\n",
       "                                                  ['Pregnancies', 'Glucose',\n",
       "                                                   'BloodPressure',\n",
       "                                                   'SkinThickness', 'Insulin',\n",
       "                                                   'BMI',\n",
       "                                                   'DiabetesPedigreeFunction',\n",
       "                                                   'Age'])])),\n",
       "                ('classifer',\n",
       "                 LogisticRegression(max_iter=1000, random_state=42))])"
      ]
     },
     "execution_count": 119,
     "metadata": {},
     "output_type": "execute_result"
    }
   ],
   "source": [
    "pipeline.fit(X_train, y_train)"
   ]
  },
  {
   "cell_type": "code",
   "execution_count": 120,
   "id": "e163fdd2-f7bf-4f0f-874b-0418db4cda39",
   "metadata": {},
   "outputs": [],
   "source": [
    "y_pred_train = pipeline.predict(X_train)\n",
    "y_pred_test = pipeline.predict(X_test)"
   ]
  },
  {
   "cell_type": "code",
   "execution_count": 121,
   "id": "be7110c6-d2ef-490a-9761-75156adfd018",
   "metadata": {},
   "outputs": [
    {
     "name": "stdout",
     "output_type": "stream",
     "text": [
      "Accuracy on train-lgr : 0.8122866894197952\n",
      "Accuracy on test-lgr : 0.8181818181818182\n",
      "Confusion Matrix-lgr :\n",
      " [[23  2]\n",
      " [ 4  4]]\n",
      "For LogisticRegression:               precision    recall  f1-score   support\n",
      "\n",
      "           0       0.85      0.92      0.88        25\n",
      "           1       0.67      0.50      0.57         8\n",
      "\n",
      "    accuracy                           0.82        33\n",
      "   macro avg       0.76      0.71      0.73        33\n",
      "weighted avg       0.81      0.82      0.81        33\n",
      "\n"
     ]
    }
   ],
   "source": [
    "accuracy_train_lgr = accuracy_score(y_train,y_pred_train)\n",
    "accuracy_test_lgr = accuracy_score(y_test,y_pred_test)\n",
    "cm = confusion_matrix(y_test,y_pred_test)\n",
    "\n",
    "print(\"Accuracy on train-lgr :\", accuracy_train_lgr)\n",
    "print(\"Accuracy on test-lgr :\", accuracy_test_lgr)\n",
    "print(\"Confusion Matrix-lgr :\\n\", cm)\n",
    "print(\"For LogisticRegression:\", classification_report(y_test,y_pred_test))"
   ]
  },
  {
   "cell_type": "code",
   "execution_count": 122,
   "id": "06179226-684e-49b6-9d0e-190938cc34b9",
   "metadata": {},
   "outputs": [
    {
     "name": "stdout",
     "output_type": "stream",
     "text": [
      "Cross-Validation Scores: [0.75757576 0.75384615 0.86153846 0.72307692 0.81538462]\n",
      "Mean Accuracy: 0.7822843822843822\n"
     ]
    }
   ],
   "source": [
    "# Define cross-validation strategy\n",
    "cv = StratifiedKFold(n_splits=5, shuffle=True, random_state=42)\n",
    "\n",
    "# Perform cross-validation\n",
    "scores = cross_val_score(pipeline, X, y, cv=cv, scoring='accuracy')\n",
    "\n",
    "# Print the cross-validation results\n",
    "print(\"Cross-Validation Scores:\", scores)\n",
    "print(\"Mean Accuracy:\", np.mean(scores))"
   ]
  },
  {
   "cell_type": "markdown",
   "id": "917b4b04-5fbd-4d6b-b0b1-95ed9740d3a1",
   "metadata": {},
   "source": [
    "# 2. RandomForestClassifier"
   ]
  },
  {
   "cell_type": "code",
   "execution_count": 123,
   "id": "9cec6062-1851-44ae-835b-75eae975a8d1",
   "metadata": {},
   "outputs": [],
   "source": [
    "rf_pipeline = Pipeline(\n",
    "    [('preprocessor', ColumnTransformer(transformers=transformations)), ('classifer', RandomForestClassifier(random_state=42, n_estimators=100))]\n",
    ")"
   ]
  },
  {
   "cell_type": "code",
   "execution_count": 124,
   "id": "a570a5a2-9d21-44bf-9563-d560d8a205ea",
   "metadata": {},
   "outputs": [
    {
     "data": {
      "text/html": [
       "<style>#sk-container-id-10 {color: black;}#sk-container-id-10 pre{padding: 0;}#sk-container-id-10 div.sk-toggleable {background-color: white;}#sk-container-id-10 label.sk-toggleable__label {cursor: pointer;display: block;width: 100%;margin-bottom: 0;padding: 0.3em;box-sizing: border-box;text-align: center;}#sk-container-id-10 label.sk-toggleable__label-arrow:before {content: \"▸\";float: left;margin-right: 0.25em;color: #696969;}#sk-container-id-10 label.sk-toggleable__label-arrow:hover:before {color: black;}#sk-container-id-10 div.sk-estimator:hover label.sk-toggleable__label-arrow:before {color: black;}#sk-container-id-10 div.sk-toggleable__content {max-height: 0;max-width: 0;overflow: hidden;text-align: left;background-color: #f0f8ff;}#sk-container-id-10 div.sk-toggleable__content pre {margin: 0.2em;color: black;border-radius: 0.25em;background-color: #f0f8ff;}#sk-container-id-10 input.sk-toggleable__control:checked~div.sk-toggleable__content {max-height: 200px;max-width: 100%;overflow: auto;}#sk-container-id-10 input.sk-toggleable__control:checked~label.sk-toggleable__label-arrow:before {content: \"▾\";}#sk-container-id-10 div.sk-estimator input.sk-toggleable__control:checked~label.sk-toggleable__label {background-color: #d4ebff;}#sk-container-id-10 div.sk-label input.sk-toggleable__control:checked~label.sk-toggleable__label {background-color: #d4ebff;}#sk-container-id-10 input.sk-hidden--visually {border: 0;clip: rect(1px 1px 1px 1px);clip: rect(1px, 1px, 1px, 1px);height: 1px;margin: -1px;overflow: hidden;padding: 0;position: absolute;width: 1px;}#sk-container-id-10 div.sk-estimator {font-family: monospace;background-color: #f0f8ff;border: 1px dotted black;border-radius: 0.25em;box-sizing: border-box;margin-bottom: 0.5em;}#sk-container-id-10 div.sk-estimator:hover {background-color: #d4ebff;}#sk-container-id-10 div.sk-parallel-item::after {content: \"\";width: 100%;border-bottom: 1px solid gray;flex-grow: 1;}#sk-container-id-10 div.sk-label:hover label.sk-toggleable__label {background-color: #d4ebff;}#sk-container-id-10 div.sk-serial::before {content: \"\";position: absolute;border-left: 1px solid gray;box-sizing: border-box;top: 0;bottom: 0;left: 50%;z-index: 0;}#sk-container-id-10 div.sk-serial {display: flex;flex-direction: column;align-items: center;background-color: white;padding-right: 0.2em;padding-left: 0.2em;position: relative;}#sk-container-id-10 div.sk-item {position: relative;z-index: 1;}#sk-container-id-10 div.sk-parallel {display: flex;align-items: stretch;justify-content: center;background-color: white;position: relative;}#sk-container-id-10 div.sk-item::before, #sk-container-id-10 div.sk-parallel-item::before {content: \"\";position: absolute;border-left: 1px solid gray;box-sizing: border-box;top: 0;bottom: 0;left: 50%;z-index: -1;}#sk-container-id-10 div.sk-parallel-item {display: flex;flex-direction: column;z-index: 1;position: relative;background-color: white;}#sk-container-id-10 div.sk-parallel-item:first-child::after {align-self: flex-end;width: 50%;}#sk-container-id-10 div.sk-parallel-item:last-child::after {align-self: flex-start;width: 50%;}#sk-container-id-10 div.sk-parallel-item:only-child::after {width: 0;}#sk-container-id-10 div.sk-dashed-wrapped {border: 1px dashed gray;margin: 0 0.4em 0.5em 0.4em;box-sizing: border-box;padding-bottom: 0.4em;background-color: white;}#sk-container-id-10 div.sk-label label {font-family: monospace;font-weight: bold;display: inline-block;line-height: 1.2em;}#sk-container-id-10 div.sk-label-container {text-align: center;}#sk-container-id-10 div.sk-container {/* jupyter's `normalize.less` sets `[hidden] { display: none; }` but bootstrap.min.css set `[hidden] { display: none !important; }` so we also need the `!important` here to be able to override the default hidden behavior on the sphinx rendered scikit-learn.org. See: https://github.com/scikit-learn/scikit-learn/issues/21755 */display: inline-block !important;position: relative;}#sk-container-id-10 div.sk-text-repr-fallback {display: none;}</style><div id=\"sk-container-id-10\" class=\"sk-top-container\"><div class=\"sk-text-repr-fallback\"><pre>Pipeline(steps=[(&#x27;preprocessor&#x27;,\n",
       "                 ColumnTransformer(transformers=[(&#x27;scaler&#x27;, StandardScaler(),\n",
       "                                                  [&#x27;Pregnancies&#x27;, &#x27;Glucose&#x27;,\n",
       "                                                   &#x27;BloodPressure&#x27;,\n",
       "                                                   &#x27;SkinThickness&#x27;, &#x27;Insulin&#x27;,\n",
       "                                                   &#x27;BMI&#x27;,\n",
       "                                                   &#x27;DiabetesPedigreeFunction&#x27;,\n",
       "                                                   &#x27;Age&#x27;])])),\n",
       "                (&#x27;classifer&#x27;, RandomForestClassifier(random_state=42))])</pre><b>In a Jupyter environment, please rerun this cell to show the HTML representation or trust the notebook. <br />On GitHub, the HTML representation is unable to render, please try loading this page with nbviewer.org.</b></div><div class=\"sk-container\" hidden><div class=\"sk-item sk-dashed-wrapped\"><div class=\"sk-label-container\"><div class=\"sk-label sk-toggleable\"><input class=\"sk-toggleable__control sk-hidden--visually\" id=\"sk-estimator-id-46\" type=\"checkbox\" ><label for=\"sk-estimator-id-46\" class=\"sk-toggleable__label sk-toggleable__label-arrow\">Pipeline</label><div class=\"sk-toggleable__content\"><pre>Pipeline(steps=[(&#x27;preprocessor&#x27;,\n",
       "                 ColumnTransformer(transformers=[(&#x27;scaler&#x27;, StandardScaler(),\n",
       "                                                  [&#x27;Pregnancies&#x27;, &#x27;Glucose&#x27;,\n",
       "                                                   &#x27;BloodPressure&#x27;,\n",
       "                                                   &#x27;SkinThickness&#x27;, &#x27;Insulin&#x27;,\n",
       "                                                   &#x27;BMI&#x27;,\n",
       "                                                   &#x27;DiabetesPedigreeFunction&#x27;,\n",
       "                                                   &#x27;Age&#x27;])])),\n",
       "                (&#x27;classifer&#x27;, RandomForestClassifier(random_state=42))])</pre></div></div></div><div class=\"sk-serial\"><div class=\"sk-item sk-dashed-wrapped\"><div class=\"sk-label-container\"><div class=\"sk-label sk-toggleable\"><input class=\"sk-toggleable__control sk-hidden--visually\" id=\"sk-estimator-id-47\" type=\"checkbox\" ><label for=\"sk-estimator-id-47\" class=\"sk-toggleable__label sk-toggleable__label-arrow\">preprocessor: ColumnTransformer</label><div class=\"sk-toggleable__content\"><pre>ColumnTransformer(transformers=[(&#x27;scaler&#x27;, StandardScaler(),\n",
       "                                 [&#x27;Pregnancies&#x27;, &#x27;Glucose&#x27;, &#x27;BloodPressure&#x27;,\n",
       "                                  &#x27;SkinThickness&#x27;, &#x27;Insulin&#x27;, &#x27;BMI&#x27;,\n",
       "                                  &#x27;DiabetesPedigreeFunction&#x27;, &#x27;Age&#x27;])])</pre></div></div></div><div class=\"sk-parallel\"><div class=\"sk-parallel-item\"><div class=\"sk-item\"><div class=\"sk-label-container\"><div class=\"sk-label sk-toggleable\"><input class=\"sk-toggleable__control sk-hidden--visually\" id=\"sk-estimator-id-48\" type=\"checkbox\" ><label for=\"sk-estimator-id-48\" class=\"sk-toggleable__label sk-toggleable__label-arrow\">scaler</label><div class=\"sk-toggleable__content\"><pre>[&#x27;Pregnancies&#x27;, &#x27;Glucose&#x27;, &#x27;BloodPressure&#x27;, &#x27;SkinThickness&#x27;, &#x27;Insulin&#x27;, &#x27;BMI&#x27;, &#x27;DiabetesPedigreeFunction&#x27;, &#x27;Age&#x27;]</pre></div></div></div><div class=\"sk-serial\"><div class=\"sk-item\"><div class=\"sk-estimator sk-toggleable\"><input class=\"sk-toggleable__control sk-hidden--visually\" id=\"sk-estimator-id-49\" type=\"checkbox\" ><label for=\"sk-estimator-id-49\" class=\"sk-toggleable__label sk-toggleable__label-arrow\">StandardScaler</label><div class=\"sk-toggleable__content\"><pre>StandardScaler()</pre></div></div></div></div></div></div></div></div><div class=\"sk-item\"><div class=\"sk-estimator sk-toggleable\"><input class=\"sk-toggleable__control sk-hidden--visually\" id=\"sk-estimator-id-50\" type=\"checkbox\" ><label for=\"sk-estimator-id-50\" class=\"sk-toggleable__label sk-toggleable__label-arrow\">RandomForestClassifier</label><div class=\"sk-toggleable__content\"><pre>RandomForestClassifier(random_state=42)</pre></div></div></div></div></div></div></div>"
      ],
      "text/plain": [
       "Pipeline(steps=[('preprocessor',\n",
       "                 ColumnTransformer(transformers=[('scaler', StandardScaler(),\n",
       "                                                  ['Pregnancies', 'Glucose',\n",
       "                                                   'BloodPressure',\n",
       "                                                   'SkinThickness', 'Insulin',\n",
       "                                                   'BMI',\n",
       "                                                   'DiabetesPedigreeFunction',\n",
       "                                                   'Age'])])),\n",
       "                ('classifer', RandomForestClassifier(random_state=42))])"
      ]
     },
     "execution_count": 124,
     "metadata": {},
     "output_type": "execute_result"
    }
   ],
   "source": [
    "rf_pipeline.fit(X_train, y_train)"
   ]
  },
  {
   "cell_type": "code",
   "execution_count": 125,
   "id": "a2554b1c-2727-4dcf-95b9-0d70cdcbda34",
   "metadata": {},
   "outputs": [],
   "source": [
    "y_pred_train_rf = rf_pipeline.predict(X_train)\n",
    "y_pred_test_rf = rf_pipeline.predict(X_test)"
   ]
  },
  {
   "cell_type": "code",
   "execution_count": 126,
   "id": "d8061411-ad83-4703-9289-8ee7d7454bc5",
   "metadata": {},
   "outputs": [
    {
     "name": "stdout",
     "output_type": "stream",
     "text": [
      "Accuracy on train-rf : 0.8122866894197952\n",
      "Accuracy on test-rf : 0.8181818181818182\n",
      "Confusion Matrix-rf :\n",
      " [[22  3]\n",
      " [ 3  5]]\n",
      "For RandomForestClassifier:               precision    recall  f1-score   support\n",
      "\n",
      "           0       0.88      0.88      0.88        25\n",
      "           1       0.62      0.62      0.62         8\n",
      "\n",
      "    accuracy                           0.82        33\n",
      "   macro avg       0.75      0.75      0.75        33\n",
      "weighted avg       0.82      0.82      0.82        33\n",
      "\n"
     ]
    }
   ],
   "source": [
    "accuracy_train_rf = accuracy_score(y_train,y_pred_train_rf)\n",
    "accuracy_test_rf = accuracy_score(y_test,y_pred_test_rf)\n",
    "cm = confusion_matrix(y_test,y_pred_test_rf)\n",
    "\n",
    "print(\"Accuracy on train-rf :\", accuracy_train_lgr)\n",
    "print(\"Accuracy on test-rf :\", accuracy_test_lgr)\n",
    "print(\"Confusion Matrix-rf :\\n\", cm)\n",
    "print(\"For RandomForestClassifier:\", classification_report(y_test,y_pred_test_rf))"
   ]
  },
  {
   "cell_type": "code",
   "execution_count": 127,
   "id": "8bcb5423-1829-4908-96d2-9497ec353b34",
   "metadata": {},
   "outputs": [
    {
     "name": "stdout",
     "output_type": "stream",
     "text": [
      "Cross-Validation Scores: [0.77272727 0.8        0.81538462 0.75384615 0.81538462]\n",
      "Mean Accuracy: 0.7914685314685315\n"
     ]
    }
   ],
   "source": [
    "# Define cross-validation strategy\n",
    "cv = StratifiedKFold(n_splits=5, shuffle=True, random_state=42)\n",
    "\n",
    "# Perform cross-validation\n",
    "scores = cross_val_score(rf_pipeline, X, y, cv=cv, scoring='accuracy')\n",
    "\n",
    "# Print the cross-validation results\n",
    "print(\"Cross-Validation Scores:\", scores)\n",
    "print(\"Mean Accuracy:\", np.mean(scores))"
   ]
  },
  {
   "cell_type": "markdown",
   "id": "ca964e03-ceb8-4413-b50f-58084c765698",
   "metadata": {},
   "source": [
    "# 3. SVC"
   ]
  },
  {
   "cell_type": "code",
   "execution_count": 128,
   "id": "13c83b07-ccbe-4d72-bbcd-a6bfd44951cd",
   "metadata": {},
   "outputs": [],
   "source": [
    "svm_pipeline = Pipeline(\n",
    "    [('preprocessor', ColumnTransformer(transformers=transformations)), ('classifer', SVC(kernel='linear',C=1.0, random_state =42))]\n",
    ")"
   ]
  },
  {
   "cell_type": "code",
   "execution_count": 129,
   "id": "568ce4ba-acfe-44a2-a387-47861d9fb1a7",
   "metadata": {},
   "outputs": [
    {
     "data": {
      "text/html": [
       "<style>#sk-container-id-11 {color: black;}#sk-container-id-11 pre{padding: 0;}#sk-container-id-11 div.sk-toggleable {background-color: white;}#sk-container-id-11 label.sk-toggleable__label {cursor: pointer;display: block;width: 100%;margin-bottom: 0;padding: 0.3em;box-sizing: border-box;text-align: center;}#sk-container-id-11 label.sk-toggleable__label-arrow:before {content: \"▸\";float: left;margin-right: 0.25em;color: #696969;}#sk-container-id-11 label.sk-toggleable__label-arrow:hover:before {color: black;}#sk-container-id-11 div.sk-estimator:hover label.sk-toggleable__label-arrow:before {color: black;}#sk-container-id-11 div.sk-toggleable__content {max-height: 0;max-width: 0;overflow: hidden;text-align: left;background-color: #f0f8ff;}#sk-container-id-11 div.sk-toggleable__content pre {margin: 0.2em;color: black;border-radius: 0.25em;background-color: #f0f8ff;}#sk-container-id-11 input.sk-toggleable__control:checked~div.sk-toggleable__content {max-height: 200px;max-width: 100%;overflow: auto;}#sk-container-id-11 input.sk-toggleable__control:checked~label.sk-toggleable__label-arrow:before {content: \"▾\";}#sk-container-id-11 div.sk-estimator input.sk-toggleable__control:checked~label.sk-toggleable__label {background-color: #d4ebff;}#sk-container-id-11 div.sk-label input.sk-toggleable__control:checked~label.sk-toggleable__label {background-color: #d4ebff;}#sk-container-id-11 input.sk-hidden--visually {border: 0;clip: rect(1px 1px 1px 1px);clip: rect(1px, 1px, 1px, 1px);height: 1px;margin: -1px;overflow: hidden;padding: 0;position: absolute;width: 1px;}#sk-container-id-11 div.sk-estimator {font-family: monospace;background-color: #f0f8ff;border: 1px dotted black;border-radius: 0.25em;box-sizing: border-box;margin-bottom: 0.5em;}#sk-container-id-11 div.sk-estimator:hover {background-color: #d4ebff;}#sk-container-id-11 div.sk-parallel-item::after {content: \"\";width: 100%;border-bottom: 1px solid gray;flex-grow: 1;}#sk-container-id-11 div.sk-label:hover label.sk-toggleable__label {background-color: #d4ebff;}#sk-container-id-11 div.sk-serial::before {content: \"\";position: absolute;border-left: 1px solid gray;box-sizing: border-box;top: 0;bottom: 0;left: 50%;z-index: 0;}#sk-container-id-11 div.sk-serial {display: flex;flex-direction: column;align-items: center;background-color: white;padding-right: 0.2em;padding-left: 0.2em;position: relative;}#sk-container-id-11 div.sk-item {position: relative;z-index: 1;}#sk-container-id-11 div.sk-parallel {display: flex;align-items: stretch;justify-content: center;background-color: white;position: relative;}#sk-container-id-11 div.sk-item::before, #sk-container-id-11 div.sk-parallel-item::before {content: \"\";position: absolute;border-left: 1px solid gray;box-sizing: border-box;top: 0;bottom: 0;left: 50%;z-index: -1;}#sk-container-id-11 div.sk-parallel-item {display: flex;flex-direction: column;z-index: 1;position: relative;background-color: white;}#sk-container-id-11 div.sk-parallel-item:first-child::after {align-self: flex-end;width: 50%;}#sk-container-id-11 div.sk-parallel-item:last-child::after {align-self: flex-start;width: 50%;}#sk-container-id-11 div.sk-parallel-item:only-child::after {width: 0;}#sk-container-id-11 div.sk-dashed-wrapped {border: 1px dashed gray;margin: 0 0.4em 0.5em 0.4em;box-sizing: border-box;padding-bottom: 0.4em;background-color: white;}#sk-container-id-11 div.sk-label label {font-family: monospace;font-weight: bold;display: inline-block;line-height: 1.2em;}#sk-container-id-11 div.sk-label-container {text-align: center;}#sk-container-id-11 div.sk-container {/* jupyter's `normalize.less` sets `[hidden] { display: none; }` but bootstrap.min.css set `[hidden] { display: none !important; }` so we also need the `!important` here to be able to override the default hidden behavior on the sphinx rendered scikit-learn.org. See: https://github.com/scikit-learn/scikit-learn/issues/21755 */display: inline-block !important;position: relative;}#sk-container-id-11 div.sk-text-repr-fallback {display: none;}</style><div id=\"sk-container-id-11\" class=\"sk-top-container\"><div class=\"sk-text-repr-fallback\"><pre>Pipeline(steps=[(&#x27;preprocessor&#x27;,\n",
       "                 ColumnTransformer(transformers=[(&#x27;scaler&#x27;, StandardScaler(),\n",
       "                                                  [&#x27;Pregnancies&#x27;, &#x27;Glucose&#x27;,\n",
       "                                                   &#x27;BloodPressure&#x27;,\n",
       "                                                   &#x27;SkinThickness&#x27;, &#x27;Insulin&#x27;,\n",
       "                                                   &#x27;BMI&#x27;,\n",
       "                                                   &#x27;DiabetesPedigreeFunction&#x27;,\n",
       "                                                   &#x27;Age&#x27;])])),\n",
       "                (&#x27;classifer&#x27;, SVC(kernel=&#x27;linear&#x27;, random_state=42))])</pre><b>In a Jupyter environment, please rerun this cell to show the HTML representation or trust the notebook. <br />On GitHub, the HTML representation is unable to render, please try loading this page with nbviewer.org.</b></div><div class=\"sk-container\" hidden><div class=\"sk-item sk-dashed-wrapped\"><div class=\"sk-label-container\"><div class=\"sk-label sk-toggleable\"><input class=\"sk-toggleable__control sk-hidden--visually\" id=\"sk-estimator-id-51\" type=\"checkbox\" ><label for=\"sk-estimator-id-51\" class=\"sk-toggleable__label sk-toggleable__label-arrow\">Pipeline</label><div class=\"sk-toggleable__content\"><pre>Pipeline(steps=[(&#x27;preprocessor&#x27;,\n",
       "                 ColumnTransformer(transformers=[(&#x27;scaler&#x27;, StandardScaler(),\n",
       "                                                  [&#x27;Pregnancies&#x27;, &#x27;Glucose&#x27;,\n",
       "                                                   &#x27;BloodPressure&#x27;,\n",
       "                                                   &#x27;SkinThickness&#x27;, &#x27;Insulin&#x27;,\n",
       "                                                   &#x27;BMI&#x27;,\n",
       "                                                   &#x27;DiabetesPedigreeFunction&#x27;,\n",
       "                                                   &#x27;Age&#x27;])])),\n",
       "                (&#x27;classifer&#x27;, SVC(kernel=&#x27;linear&#x27;, random_state=42))])</pre></div></div></div><div class=\"sk-serial\"><div class=\"sk-item sk-dashed-wrapped\"><div class=\"sk-label-container\"><div class=\"sk-label sk-toggleable\"><input class=\"sk-toggleable__control sk-hidden--visually\" id=\"sk-estimator-id-52\" type=\"checkbox\" ><label for=\"sk-estimator-id-52\" class=\"sk-toggleable__label sk-toggleable__label-arrow\">preprocessor: ColumnTransformer</label><div class=\"sk-toggleable__content\"><pre>ColumnTransformer(transformers=[(&#x27;scaler&#x27;, StandardScaler(),\n",
       "                                 [&#x27;Pregnancies&#x27;, &#x27;Glucose&#x27;, &#x27;BloodPressure&#x27;,\n",
       "                                  &#x27;SkinThickness&#x27;, &#x27;Insulin&#x27;, &#x27;BMI&#x27;,\n",
       "                                  &#x27;DiabetesPedigreeFunction&#x27;, &#x27;Age&#x27;])])</pre></div></div></div><div class=\"sk-parallel\"><div class=\"sk-parallel-item\"><div class=\"sk-item\"><div class=\"sk-label-container\"><div class=\"sk-label sk-toggleable\"><input class=\"sk-toggleable__control sk-hidden--visually\" id=\"sk-estimator-id-53\" type=\"checkbox\" ><label for=\"sk-estimator-id-53\" class=\"sk-toggleable__label sk-toggleable__label-arrow\">scaler</label><div class=\"sk-toggleable__content\"><pre>[&#x27;Pregnancies&#x27;, &#x27;Glucose&#x27;, &#x27;BloodPressure&#x27;, &#x27;SkinThickness&#x27;, &#x27;Insulin&#x27;, &#x27;BMI&#x27;, &#x27;DiabetesPedigreeFunction&#x27;, &#x27;Age&#x27;]</pre></div></div></div><div class=\"sk-serial\"><div class=\"sk-item\"><div class=\"sk-estimator sk-toggleable\"><input class=\"sk-toggleable__control sk-hidden--visually\" id=\"sk-estimator-id-54\" type=\"checkbox\" ><label for=\"sk-estimator-id-54\" class=\"sk-toggleable__label sk-toggleable__label-arrow\">StandardScaler</label><div class=\"sk-toggleable__content\"><pre>StandardScaler()</pre></div></div></div></div></div></div></div></div><div class=\"sk-item\"><div class=\"sk-estimator sk-toggleable\"><input class=\"sk-toggleable__control sk-hidden--visually\" id=\"sk-estimator-id-55\" type=\"checkbox\" ><label for=\"sk-estimator-id-55\" class=\"sk-toggleable__label sk-toggleable__label-arrow\">SVC</label><div class=\"sk-toggleable__content\"><pre>SVC(kernel=&#x27;linear&#x27;, random_state=42)</pre></div></div></div></div></div></div></div>"
      ],
      "text/plain": [
       "Pipeline(steps=[('preprocessor',\n",
       "                 ColumnTransformer(transformers=[('scaler', StandardScaler(),\n",
       "                                                  ['Pregnancies', 'Glucose',\n",
       "                                                   'BloodPressure',\n",
       "                                                   'SkinThickness', 'Insulin',\n",
       "                                                   'BMI',\n",
       "                                                   'DiabetesPedigreeFunction',\n",
       "                                                   'Age'])])),\n",
       "                ('classifer', SVC(kernel='linear', random_state=42))])"
      ]
     },
     "execution_count": 129,
     "metadata": {},
     "output_type": "execute_result"
    }
   ],
   "source": [
    "svm_pipeline.fit(X_train, y_train)"
   ]
  },
  {
   "cell_type": "code",
   "execution_count": 130,
   "id": "033db9c7-34de-4232-882c-d9d5c026a362",
   "metadata": {},
   "outputs": [],
   "source": [
    "y_pred_train_svm = svm_pipeline.predict(X_train)\n",
    "y_pred_test_svm = svm_pipeline.predict(X_test)"
   ]
  },
  {
   "cell_type": "code",
   "execution_count": 131,
   "id": "75ce09a2-f4bc-4cf1-83df-40a39a48b6de",
   "metadata": {},
   "outputs": [
    {
     "name": "stdout",
     "output_type": "stream",
     "text": [
      "Accuracy on train-svm : 0.7952218430034129\n",
      "Accuracy on test-svm : 0.8181818181818182\n",
      "Confusion Matrix-svm :\n",
      " [[23  2]\n",
      " [ 4  4]]\n",
      "For SVM:               precision    recall  f1-score   support\n",
      "\n",
      "           0       0.85      0.92      0.88        25\n",
      "           1       0.67      0.50      0.57         8\n",
      "\n",
      "    accuracy                           0.82        33\n",
      "   macro avg       0.76      0.71      0.73        33\n",
      "weighted avg       0.81      0.82      0.81        33\n",
      "\n"
     ]
    }
   ],
   "source": [
    "accuracy_train_svm = accuracy_score(y_train,y_pred_train_svm)\n",
    "accuracy_test_svm = accuracy_score(y_test,y_pred_test_svm)\n",
    "cm_svm = confusion_matrix(y_test,y_pred_test_svm)\n",
    "\n",
    "print(\"Accuracy on train-svm :\", accuracy_train_svm)\n",
    "print(\"Accuracy on test-svm :\", accuracy_test_svm)\n",
    "print(\"Confusion Matrix-svm :\\n\", cm_svm)\n",
    "print(\"For SVM:\", classification_report(y_test,y_pred_test_svm))"
   ]
  },
  {
   "cell_type": "code",
   "execution_count": 132,
   "id": "21fe6474-fb7a-44ed-82f9-cfc2250bfa20",
   "metadata": {},
   "outputs": [
    {
     "name": "stdout",
     "output_type": "stream",
     "text": [
      "Cross-Validation Scores: [0.77272727 0.73846154 0.83076923 0.72307692 0.81538462]\n",
      "Mean Accuracy: 0.7760839160839161\n"
     ]
    }
   ],
   "source": [
    "# Define cross-validation strategy\n",
    "cv = StratifiedKFold(n_splits=5, shuffle=True, random_state=42)\n",
    "\n",
    "# Perform cross-validation\n",
    "scores = cross_val_score(svm_pipeline, X, y, cv=cv, scoring='accuracy')\n",
    "\n",
    "# Print the cross-validation results\n",
    "print(\"Cross-Validation Scores:\", scores)\n",
    "print(\"Mean Accuracy:\", np.mean(scores))"
   ]
  },
  {
   "cell_type": "markdown",
   "id": "3cb74eb5-2e96-44fe-9c2c-d0e445e4d616",
   "metadata": {},
   "source": [
    "# 4. XGB"
   ]
  },
  {
   "cell_type": "code",
   "execution_count": 133,
   "id": "c208f821-d1ee-48ea-ab5a-9a30815ba53c",
   "metadata": {},
   "outputs": [],
   "source": [
    "xgb_pipeline = Pipeline(\n",
    "    [('preprocessor', ColumnTransformer(transformers=transformations)), ('classifer', XGBClassifier())]\n",
    ")"
   ]
  },
  {
   "cell_type": "code",
   "execution_count": 134,
   "id": "852c7a2e-b7b8-4e47-b6d6-0f72327d60ea",
   "metadata": {},
   "outputs": [
    {
     "data": {
      "text/html": [
       "<style>#sk-container-id-12 {color: black;}#sk-container-id-12 pre{padding: 0;}#sk-container-id-12 div.sk-toggleable {background-color: white;}#sk-container-id-12 label.sk-toggleable__label {cursor: pointer;display: block;width: 100%;margin-bottom: 0;padding: 0.3em;box-sizing: border-box;text-align: center;}#sk-container-id-12 label.sk-toggleable__label-arrow:before {content: \"▸\";float: left;margin-right: 0.25em;color: #696969;}#sk-container-id-12 label.sk-toggleable__label-arrow:hover:before {color: black;}#sk-container-id-12 div.sk-estimator:hover label.sk-toggleable__label-arrow:before {color: black;}#sk-container-id-12 div.sk-toggleable__content {max-height: 0;max-width: 0;overflow: hidden;text-align: left;background-color: #f0f8ff;}#sk-container-id-12 div.sk-toggleable__content pre {margin: 0.2em;color: black;border-radius: 0.25em;background-color: #f0f8ff;}#sk-container-id-12 input.sk-toggleable__control:checked~div.sk-toggleable__content {max-height: 200px;max-width: 100%;overflow: auto;}#sk-container-id-12 input.sk-toggleable__control:checked~label.sk-toggleable__label-arrow:before {content: \"▾\";}#sk-container-id-12 div.sk-estimator input.sk-toggleable__control:checked~label.sk-toggleable__label {background-color: #d4ebff;}#sk-container-id-12 div.sk-label input.sk-toggleable__control:checked~label.sk-toggleable__label {background-color: #d4ebff;}#sk-container-id-12 input.sk-hidden--visually {border: 0;clip: rect(1px 1px 1px 1px);clip: rect(1px, 1px, 1px, 1px);height: 1px;margin: -1px;overflow: hidden;padding: 0;position: absolute;width: 1px;}#sk-container-id-12 div.sk-estimator {font-family: monospace;background-color: #f0f8ff;border: 1px dotted black;border-radius: 0.25em;box-sizing: border-box;margin-bottom: 0.5em;}#sk-container-id-12 div.sk-estimator:hover {background-color: #d4ebff;}#sk-container-id-12 div.sk-parallel-item::after {content: \"\";width: 100%;border-bottom: 1px solid gray;flex-grow: 1;}#sk-container-id-12 div.sk-label:hover label.sk-toggleable__label {background-color: #d4ebff;}#sk-container-id-12 div.sk-serial::before {content: \"\";position: absolute;border-left: 1px solid gray;box-sizing: border-box;top: 0;bottom: 0;left: 50%;z-index: 0;}#sk-container-id-12 div.sk-serial {display: flex;flex-direction: column;align-items: center;background-color: white;padding-right: 0.2em;padding-left: 0.2em;position: relative;}#sk-container-id-12 div.sk-item {position: relative;z-index: 1;}#sk-container-id-12 div.sk-parallel {display: flex;align-items: stretch;justify-content: center;background-color: white;position: relative;}#sk-container-id-12 div.sk-item::before, #sk-container-id-12 div.sk-parallel-item::before {content: \"\";position: absolute;border-left: 1px solid gray;box-sizing: border-box;top: 0;bottom: 0;left: 50%;z-index: -1;}#sk-container-id-12 div.sk-parallel-item {display: flex;flex-direction: column;z-index: 1;position: relative;background-color: white;}#sk-container-id-12 div.sk-parallel-item:first-child::after {align-self: flex-end;width: 50%;}#sk-container-id-12 div.sk-parallel-item:last-child::after {align-self: flex-start;width: 50%;}#sk-container-id-12 div.sk-parallel-item:only-child::after {width: 0;}#sk-container-id-12 div.sk-dashed-wrapped {border: 1px dashed gray;margin: 0 0.4em 0.5em 0.4em;box-sizing: border-box;padding-bottom: 0.4em;background-color: white;}#sk-container-id-12 div.sk-label label {font-family: monospace;font-weight: bold;display: inline-block;line-height: 1.2em;}#sk-container-id-12 div.sk-label-container {text-align: center;}#sk-container-id-12 div.sk-container {/* jupyter's `normalize.less` sets `[hidden] { display: none; }` but bootstrap.min.css set `[hidden] { display: none !important; }` so we also need the `!important` here to be able to override the default hidden behavior on the sphinx rendered scikit-learn.org. See: https://github.com/scikit-learn/scikit-learn/issues/21755 */display: inline-block !important;position: relative;}#sk-container-id-12 div.sk-text-repr-fallback {display: none;}</style><div id=\"sk-container-id-12\" class=\"sk-top-container\"><div class=\"sk-text-repr-fallback\"><pre>Pipeline(steps=[(&#x27;preprocessor&#x27;,\n",
       "                 ColumnTransformer(transformers=[(&#x27;scaler&#x27;, StandardScaler(),\n",
       "                                                  [&#x27;Pregnancies&#x27;, &#x27;Glucose&#x27;,\n",
       "                                                   &#x27;BloodPressure&#x27;,\n",
       "                                                   &#x27;SkinThickness&#x27;, &#x27;Insulin&#x27;,\n",
       "                                                   &#x27;BMI&#x27;,\n",
       "                                                   &#x27;DiabetesPedigreeFunction&#x27;,\n",
       "                                                   &#x27;Age&#x27;])])),\n",
       "                (&#x27;classifer&#x27;,\n",
       "                 XGBClassifier(base_score=None, booster=None, callbacks=None,\n",
       "                               colsample_bylevel=None, colsample_bynode=None,\n",
       "                               colsample_bytree=None, device=Non...\n",
       "                               feature_types=None, gamma=None, grow_policy=None,\n",
       "                               importance_type=None,\n",
       "                               interaction_constraints=None, learning_rate=None,\n",
       "                               max_bin=None, max_cat_threshold=None,\n",
       "                               max_cat_to_onehot=None, max_delta_step=None,\n",
       "                               max_depth=None, max_leaves=None,\n",
       "                               min_child_weight=None, missing=nan,\n",
       "                               monotone_constraints=None, multi_strategy=None,\n",
       "                               n_estimators=None, n_jobs=None,\n",
       "                               num_parallel_tree=None, random_state=None, ...))])</pre><b>In a Jupyter environment, please rerun this cell to show the HTML representation or trust the notebook. <br />On GitHub, the HTML representation is unable to render, please try loading this page with nbviewer.org.</b></div><div class=\"sk-container\" hidden><div class=\"sk-item sk-dashed-wrapped\"><div class=\"sk-label-container\"><div class=\"sk-label sk-toggleable\"><input class=\"sk-toggleable__control sk-hidden--visually\" id=\"sk-estimator-id-56\" type=\"checkbox\" ><label for=\"sk-estimator-id-56\" class=\"sk-toggleable__label sk-toggleable__label-arrow\">Pipeline</label><div class=\"sk-toggleable__content\"><pre>Pipeline(steps=[(&#x27;preprocessor&#x27;,\n",
       "                 ColumnTransformer(transformers=[(&#x27;scaler&#x27;, StandardScaler(),\n",
       "                                                  [&#x27;Pregnancies&#x27;, &#x27;Glucose&#x27;,\n",
       "                                                   &#x27;BloodPressure&#x27;,\n",
       "                                                   &#x27;SkinThickness&#x27;, &#x27;Insulin&#x27;,\n",
       "                                                   &#x27;BMI&#x27;,\n",
       "                                                   &#x27;DiabetesPedigreeFunction&#x27;,\n",
       "                                                   &#x27;Age&#x27;])])),\n",
       "                (&#x27;classifer&#x27;,\n",
       "                 XGBClassifier(base_score=None, booster=None, callbacks=None,\n",
       "                               colsample_bylevel=None, colsample_bynode=None,\n",
       "                               colsample_bytree=None, device=Non...\n",
       "                               feature_types=None, gamma=None, grow_policy=None,\n",
       "                               importance_type=None,\n",
       "                               interaction_constraints=None, learning_rate=None,\n",
       "                               max_bin=None, max_cat_threshold=None,\n",
       "                               max_cat_to_onehot=None, max_delta_step=None,\n",
       "                               max_depth=None, max_leaves=None,\n",
       "                               min_child_weight=None, missing=nan,\n",
       "                               monotone_constraints=None, multi_strategy=None,\n",
       "                               n_estimators=None, n_jobs=None,\n",
       "                               num_parallel_tree=None, random_state=None, ...))])</pre></div></div></div><div class=\"sk-serial\"><div class=\"sk-item sk-dashed-wrapped\"><div class=\"sk-label-container\"><div class=\"sk-label sk-toggleable\"><input class=\"sk-toggleable__control sk-hidden--visually\" id=\"sk-estimator-id-57\" type=\"checkbox\" ><label for=\"sk-estimator-id-57\" class=\"sk-toggleable__label sk-toggleable__label-arrow\">preprocessor: ColumnTransformer</label><div class=\"sk-toggleable__content\"><pre>ColumnTransformer(transformers=[(&#x27;scaler&#x27;, StandardScaler(),\n",
       "                                 [&#x27;Pregnancies&#x27;, &#x27;Glucose&#x27;, &#x27;BloodPressure&#x27;,\n",
       "                                  &#x27;SkinThickness&#x27;, &#x27;Insulin&#x27;, &#x27;BMI&#x27;,\n",
       "                                  &#x27;DiabetesPedigreeFunction&#x27;, &#x27;Age&#x27;])])</pre></div></div></div><div class=\"sk-parallel\"><div class=\"sk-parallel-item\"><div class=\"sk-item\"><div class=\"sk-label-container\"><div class=\"sk-label sk-toggleable\"><input class=\"sk-toggleable__control sk-hidden--visually\" id=\"sk-estimator-id-58\" type=\"checkbox\" ><label for=\"sk-estimator-id-58\" class=\"sk-toggleable__label sk-toggleable__label-arrow\">scaler</label><div class=\"sk-toggleable__content\"><pre>[&#x27;Pregnancies&#x27;, &#x27;Glucose&#x27;, &#x27;BloodPressure&#x27;, &#x27;SkinThickness&#x27;, &#x27;Insulin&#x27;, &#x27;BMI&#x27;, &#x27;DiabetesPedigreeFunction&#x27;, &#x27;Age&#x27;]</pre></div></div></div><div class=\"sk-serial\"><div class=\"sk-item\"><div class=\"sk-estimator sk-toggleable\"><input class=\"sk-toggleable__control sk-hidden--visually\" id=\"sk-estimator-id-59\" type=\"checkbox\" ><label for=\"sk-estimator-id-59\" class=\"sk-toggleable__label sk-toggleable__label-arrow\">StandardScaler</label><div class=\"sk-toggleable__content\"><pre>StandardScaler()</pre></div></div></div></div></div></div></div></div><div class=\"sk-item\"><div class=\"sk-estimator sk-toggleable\"><input class=\"sk-toggleable__control sk-hidden--visually\" id=\"sk-estimator-id-60\" type=\"checkbox\" ><label for=\"sk-estimator-id-60\" class=\"sk-toggleable__label sk-toggleable__label-arrow\">XGBClassifier</label><div class=\"sk-toggleable__content\"><pre>XGBClassifier(base_score=None, booster=None, callbacks=None,\n",
       "              colsample_bylevel=None, colsample_bynode=None,\n",
       "              colsample_bytree=None, device=None, early_stopping_rounds=None,\n",
       "              enable_categorical=False, eval_metric=None, feature_types=None,\n",
       "              gamma=None, grow_policy=None, importance_type=None,\n",
       "              interaction_constraints=None, learning_rate=None, max_bin=None,\n",
       "              max_cat_threshold=None, max_cat_to_onehot=None,\n",
       "              max_delta_step=None, max_depth=None, max_leaves=None,\n",
       "              min_child_weight=None, missing=nan, monotone_constraints=None,\n",
       "              multi_strategy=None, n_estimators=None, n_jobs=None,\n",
       "              num_parallel_tree=None, random_state=None, ...)</pre></div></div></div></div></div></div></div>"
      ],
      "text/plain": [
       "Pipeline(steps=[('preprocessor',\n",
       "                 ColumnTransformer(transformers=[('scaler', StandardScaler(),\n",
       "                                                  ['Pregnancies', 'Glucose',\n",
       "                                                   'BloodPressure',\n",
       "                                                   'SkinThickness', 'Insulin',\n",
       "                                                   'BMI',\n",
       "                                                   'DiabetesPedigreeFunction',\n",
       "                                                   'Age'])])),\n",
       "                ('classifer',\n",
       "                 XGBClassifier(base_score=None, booster=None, callbacks=None,\n",
       "                               colsample_bylevel=None, colsample_bynode=None,\n",
       "                               colsample_bytree=None, device=Non...\n",
       "                               feature_types=None, gamma=None, grow_policy=None,\n",
       "                               importance_type=None,\n",
       "                               interaction_constraints=None, learning_rate=None,\n",
       "                               max_bin=None, max_cat_threshold=None,\n",
       "                               max_cat_to_onehot=None, max_delta_step=None,\n",
       "                               max_depth=None, max_leaves=None,\n",
       "                               min_child_weight=None, missing=nan,\n",
       "                               monotone_constraints=None, multi_strategy=None,\n",
       "                               n_estimators=None, n_jobs=None,\n",
       "                               num_parallel_tree=None, random_state=None, ...))])"
      ]
     },
     "execution_count": 134,
     "metadata": {},
     "output_type": "execute_result"
    }
   ],
   "source": [
    "xgb_pipeline.fit(X_train, y_train)"
   ]
  },
  {
   "cell_type": "code",
   "execution_count": 135,
   "id": "6273f1cf-fbe8-41f0-94f7-dceb15f7807e",
   "metadata": {},
   "outputs": [],
   "source": [
    "y_pred_train_xgb = xgb_pipeline.predict(X_train)\n",
    "y_pred_test_xgb = xgb_pipeline.predict(X_test)"
   ]
  },
  {
   "cell_type": "code",
   "execution_count": 136,
   "id": "7e60e4cd-fa2e-4a11-8db2-2e48813ca5a3",
   "metadata": {},
   "outputs": [
    {
     "name": "stdout",
     "output_type": "stream",
     "text": [
      "Accuracy on train-xgb : 1.0\n",
      "Accuracy on test-xgb : 0.8484848484848485\n",
      "Confusion Matrix-xgb :\n",
      " [[22  3]\n",
      " [ 2  6]]\n",
      "For xgb:               precision    recall  f1-score   support\n",
      "\n",
      "           0       0.92      0.88      0.90        25\n",
      "           1       0.67      0.75      0.71         8\n",
      "\n",
      "    accuracy                           0.85        33\n",
      "   macro avg       0.79      0.81      0.80        33\n",
      "weighted avg       0.86      0.85      0.85        33\n",
      "\n"
     ]
    }
   ],
   "source": [
    "accuracy_train_xgb = accuracy_score(y_train,y_pred_train_xgb)\n",
    "accuracy_test_xgb = accuracy_score(y_test,y_pred_test_xgb)\n",
    "cm_xgb = confusion_matrix(y_test,y_pred_test_xgb)\n",
    "\n",
    "print(\"Accuracy on train-xgb :\", accuracy_train_xgb)\n",
    "print(\"Accuracy on test-xgb :\", accuracy_test_xgb)\n",
    "print(\"Confusion Matrix-xgb :\\n\", cm_xgb)\n",
    "print(\"For xgb:\", classification_report(y_test,y_pred_test_xgb))"
   ]
  },
  {
   "cell_type": "code",
   "execution_count": 137,
   "id": "88c7b759-6d9e-4008-8fb2-68b5fae634a7",
   "metadata": {},
   "outputs": [
    {
     "name": "stdout",
     "output_type": "stream",
     "text": [
      "Cross-Validation Scores: [0.75757576 0.78461538 0.75384615 0.72307692 0.76923077]\n",
      "Mean Accuracy: 0.7576689976689976\n"
     ]
    }
   ],
   "source": [
    "# Define cross-validation strategy\n",
    "cv = StratifiedKFold(n_splits=5, shuffle=True, random_state=42)\n",
    "\n",
    "# Perform cross-validation\n",
    "scores = cross_val_score(xgb_pipeline, X, y, cv=cv, scoring='accuracy')\n",
    "\n",
    "# Print the cross-validation results\n",
    "print(\"Cross-Validation Scores:\", scores)\n",
    "print(\"Mean Accuracy:\", np.mean(scores))"
   ]
  },
  {
   "cell_type": "markdown",
   "id": "a3e871c9-c9b1-4105-a1c7-fb9d9864cd04",
   "metadata": {},
   "source": [
    "Remark: The Random Forest classifier has proven to be a highly effective model for the task of diabetes prediction. The model's performance, as evidenced by the confusion matrix and evaluation metrics, demonstrates its capability in accurately classifying individuals into 'diabetes yes' or 'diabetes no'.\""
   ]
  },
  {
   "cell_type": "markdown",
   "id": "92c756ea-48d6-4ebf-9615-0609eb4a1e4f",
   "metadata": {},
   "source": [
    "# Making a Predictive System"
   ]
  },
  {
   "cell_type": "code",
   "execution_count": 138,
   "id": "1aca6aec-e053-4231-b932-7c57618ec35c",
   "metadata": {},
   "outputs": [
    {
     "data": {
      "text/plain": [
       "Index(['Pregnancies', 'Glucose', 'BloodPressure', 'SkinThickness', 'Insulin',\n",
       "       'BMI', 'DiabetesPedigreeFunction', 'Age', 'Outcome'],\n",
       "      dtype='object')"
      ]
     },
     "execution_count": 138,
     "metadata": {},
     "output_type": "execute_result"
    }
   ],
   "source": [
    "df.columns"
   ]
  },
  {
   "cell_type": "code",
   "execution_count": 139,
   "id": "c5311a56-bd30-4536-a7cd-d83e379651c4",
   "metadata": {},
   "outputs": [
    {
     "name": "stdin",
     "output_type": "stream",
     "text": [
      "Enter the number of pregnancies:  1\n",
      "Enter the glucose level:  2\n",
      "Enter the blood pressure:  3\n",
      "Enter the skin thickness:  4\n",
      "Enter the insulin level:  5\n",
      "Enter the BMI:  6\n",
      "Enter the Diabetes Pedigree Function:  7\n",
      "Enter the age:  8\n"
     ]
    },
    {
     "name": "stdout",
     "output_type": "stream",
     "text": [
      "The person is diabetic\n"
     ]
    }
   ],
   "source": [
    "import numpy as np\n",
    "\n",
    "# Prompt the user for input for each feature\n",
    "pregnancies = float(input(\"Enter the number of pregnancies: \"))\n",
    "glucose = float(input(\"Enter the glucose level: \"))\n",
    "blood_pressure = float(input(\"Enter the blood pressure: \"))\n",
    "skin_thickness = float(input(\"Enter the skin thickness: \"))\n",
    "insulin = float(input(\"Enter the insulin level: \"))\n",
    "bmi = float(input(\"Enter the BMI: \"))\n",
    "diabetes_pedigree_function = float(input(\"Enter the Diabetes Pedigree Function: \"))\n",
    "age = float(input(\"Enter the age: \"))\n",
    "\n",
    "# Create an input data array\n",
    "input_data = np.array([pregnancies, glucose, blood_pressure, skin_thickness, insulin, bmi, diabetes_pedigree_function, age])\n",
    "\n",
    "# Reshape the array as we are predicting for one instance\n",
    "input_data_reshaped = input_data.reshape(1, -1)\n",
    "\n",
    "# Make a prediction using the RandomForest model\n",
    "prediction = rf_pipeline.named_steps['classifer'].predict(input_data_reshaped)\n",
    "\n",
    "# Check the prediction and provide an appropriate response\n",
    "if (prediction[0] == 0):\n",
    "    print('The person is not diabetic')\n",
    "else:\n",
    "    print('The person is diabetic')"
   ]
  },
  {
   "cell_type": "code",
   "execution_count": 140,
   "id": "8f460aa1-a555-465b-b047-83f06f382769",
   "metadata": {},
   "outputs": [],
   "source": [
    "# For Deployment"
   ]
  },
  {
   "cell_type": "code",
   "execution_count": 141,
   "id": "f5f09709-8867-4b47-9e07-59706d04e5e9",
   "metadata": {},
   "outputs": [],
   "source": [
    "import pickle\n",
    "\n",
    "# Save the trained Random Forest model to a file\n",
    "with open('RandomForestModel.pkl', 'wb') as model_file:\n",
    "    pickle.dump(rf_pipeline, model_file)"
   ]
  }
 ],
 "metadata": {
  "kernelspec": {
   "display_name": "Python 3 (ipykernel)",
   "language": "python",
   "name": "python3"
  },
  "language_info": {
   "codemirror_mode": {
    "name": "ipython",
    "version": 3
   },
   "file_extension": ".py",
   "mimetype": "text/x-python",
   "name": "python",
   "nbconvert_exporter": "python",
   "pygments_lexer": "ipython3",
   "version": "3.11.5"
  }
 },
 "nbformat": 4,
 "nbformat_minor": 5
}
